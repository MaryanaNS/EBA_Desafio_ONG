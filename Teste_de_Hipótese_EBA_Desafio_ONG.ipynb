{
 "cells": [
  {
   "cell_type": "markdown",
   "id": "f7863438",
   "metadata": {},
   "source": [
    "# Teste de Hipótese"
   ]
  },
  {
   "cell_type": "markdown",
   "id": "20779a7f",
   "metadata": {},
   "source": [
    "### Desafio ONG | E.B.A - Estatística do Básico ao Avançado"
   ]
  },
  {
   "cell_type": "markdown",
   "id": "f5fa69c7",
   "metadata": {},
   "source": [
    "Somos uma ONG de animais e queremos incentivar a adoção de pets. Para isso, vamos mostrar um vídeo de animais para as pessoas. Porém, não sabemos o que é mais efetivo: um vídeo de cachorros ou um vídeo de gatos.\n",
    "\n",
    "Por isso, resolvemos rodar um experimento: vamos criar 2 vídeos, um de cachorro e outro de gato. Depois, vamos perguntar as pessoas a probabilidade de que ela adote um animal.\n",
    "```\n",
    "- As pessoas desse experimento só verão 1 vídeo cada;\n",
    "- Ao final do vídeo perguntamos a elas a probabilidade de que elas adotem um animal;\n",
    "- As amostras são aleatórias e sem viéses sistematicos;\n",
    "```\n",
    "**Objetivo:** Avaliar qual animal (cachorro ou gato) deve estar em um vídeo de campanha de adoção.\n",
    "\n",
    "**Experimento:** 500 pessoas que não possuem animais de estimação assistem aos vídeos de campanha de adoção.\n",
    "Os vídeos são idênticos com exceção dos animais mostrados:\n",
    "```\n",
    "- 250 pessoas aleatorizadas para o vídeo com gato\n",
    "- 250 pessoas aleatorizadas para o vídeo com cachorro\n",
    "```\n",
    "\n",
    "##### - Qual a chance de adotar um pet? (0-100) depois do vídeo?\n",
    "\n",
    "##### - A média de probabilidade de quem vê o vídeo de gato é igual a de cachorro?"
   ]
  },
  {
   "cell_type": "code",
   "execution_count": 1,
   "id": "47ee48d7",
   "metadata": {},
   "outputs": [],
   "source": [
    "# Importação das bibliotecas para manipulação de tabelas (pandas), operações (numpy) e manipulação de gráficos (seaborn e matplotlib)\n",
    "import pandas as pd\n",
    "import numpy as np\n",
    "import seaborn as sns\n",
    "import matplotlib.pyplot as plt"
   ]
  },
  {
   "cell_type": "code",
   "execution_count": 2,
   "id": "be1666f2",
   "metadata": {},
   "outputs": [],
   "source": [
    "# Leitura do arquivo csv\n",
    "df = pd.read_csv(\"cachorro_gato.csv\")"
   ]
  },
  {
   "cell_type": "code",
   "execution_count": 3,
   "id": "f41fc584",
   "metadata": {},
   "outputs": [
    {
     "data": {
      "text/html": [
       "<div>\n",
       "<style scoped>\n",
       "    .dataframe tbody tr th:only-of-type {\n",
       "        vertical-align: middle;\n",
       "    }\n",
       "\n",
       "    .dataframe tbody tr th {\n",
       "        vertical-align: top;\n",
       "    }\n",
       "\n",
       "    .dataframe thead th {\n",
       "        text-align: right;\n",
       "    }\n",
       "</style>\n",
       "<table border=\"1\" class=\"dataframe\">\n",
       "  <thead>\n",
       "    <tr style=\"text-align: right;\">\n",
       "      <th></th>\n",
       "      <th>Unnamed: 0</th>\n",
       "      <th>grupo</th>\n",
       "      <th>escore</th>\n",
       "    </tr>\n",
       "  </thead>\n",
       "  <tbody>\n",
       "    <tr>\n",
       "      <th>0</th>\n",
       "      <td>0</td>\n",
       "      <td>1</td>\n",
       "      <td>59.853433</td>\n",
       "    </tr>\n",
       "    <tr>\n",
       "      <th>1</th>\n",
       "      <td>1</td>\n",
       "      <td>0</td>\n",
       "      <td>66.353529</td>\n",
       "    </tr>\n",
       "    <tr>\n",
       "      <th>2</th>\n",
       "      <td>2</td>\n",
       "      <td>1</td>\n",
       "      <td>56.495813</td>\n",
       "    </tr>\n",
       "    <tr>\n",
       "      <th>3</th>\n",
       "      <td>3</td>\n",
       "      <td>0</td>\n",
       "      <td>67.995090</td>\n",
       "    </tr>\n",
       "    <tr>\n",
       "      <th>4</th>\n",
       "      <td>4</td>\n",
       "      <td>1</td>\n",
       "      <td>70.434375</td>\n",
       "    </tr>\n",
       "    <tr>\n",
       "      <th>...</th>\n",
       "      <td>...</td>\n",
       "      <td>...</td>\n",
       "      <td>...</td>\n",
       "    </tr>\n",
       "    <tr>\n",
       "      <th>495</th>\n",
       "      <td>495</td>\n",
       "      <td>0</td>\n",
       "      <td>70.292458</td>\n",
       "    </tr>\n",
       "    <tr>\n",
       "      <th>496</th>\n",
       "      <td>496</td>\n",
       "      <td>0</td>\n",
       "      <td>74.674293</td>\n",
       "    </tr>\n",
       "    <tr>\n",
       "      <th>497</th>\n",
       "      <td>497</td>\n",
       "      <td>1</td>\n",
       "      <td>43.148814</td>\n",
       "    </tr>\n",
       "    <tr>\n",
       "      <th>498</th>\n",
       "      <td>498</td>\n",
       "      <td>0</td>\n",
       "      <td>58.625388</td>\n",
       "    </tr>\n",
       "    <tr>\n",
       "      <th>499</th>\n",
       "      <td>499</td>\n",
       "      <td>0</td>\n",
       "      <td>38.126324</td>\n",
       "    </tr>\n",
       "  </tbody>\n",
       "</table>\n",
       "<p>500 rows × 3 columns</p>\n",
       "</div>"
      ],
      "text/plain": [
       "     Unnamed: 0  grupo     escore\n",
       "0             0      1  59.853433\n",
       "1             1      0  66.353529\n",
       "2             2      1  56.495813\n",
       "3             3      0  67.995090\n",
       "4             4      1  70.434375\n",
       "..          ...    ...        ...\n",
       "495         495      0  70.292458\n",
       "496         496      0  74.674293\n",
       "497         497      1  43.148814\n",
       "498         498      0  58.625388\n",
       "499         499      0  38.126324\n",
       "\n",
       "[500 rows x 3 columns]"
      ]
     },
     "execution_count": 3,
     "metadata": {},
     "output_type": "execute_result"
    }
   ],
   "source": [
    "# Visualização do arquivo\n",
    "df"
   ]
  },
  {
   "cell_type": "markdown",
   "id": "d316aa01",
   "metadata": {},
   "source": [
    "#### Coluna Grupo = 0 : Pessoas que viram o vídeo de cachorro\n",
    "#### Coluna Grupo = 1 : Pessoas que viram o vídeo de gato\n",
    "#### Coluna Escore : Probabilidade da pessoa adotar um pet após ver o vídeo"
   ]
  },
  {
   "cell_type": "code",
   "execution_count": 10,
   "id": "f1df50a7",
   "metadata": {
    "scrolled": true
   },
   "outputs": [
    {
     "data": {
      "text/html": [
       "<div>\n",
       "<style scoped>\n",
       "    .dataframe tbody tr th:only-of-type {\n",
       "        vertical-align: middle;\n",
       "    }\n",
       "\n",
       "    .dataframe tbody tr th {\n",
       "        vertical-align: top;\n",
       "    }\n",
       "\n",
       "    .dataframe thead th {\n",
       "        text-align: right;\n",
       "    }\n",
       "</style>\n",
       "<table border=\"1\" class=\"dataframe\">\n",
       "  <thead>\n",
       "    <tr style=\"text-align: right;\">\n",
       "      <th></th>\n",
       "      <th>count</th>\n",
       "      <th>mean</th>\n",
       "      <th>std</th>\n",
       "      <th>min</th>\n",
       "      <th>25%</th>\n",
       "      <th>50%</th>\n",
       "      <th>75%</th>\n",
       "      <th>max</th>\n",
       "    </tr>\n",
       "    <tr>\n",
       "      <th>grupo</th>\n",
       "      <th></th>\n",
       "      <th></th>\n",
       "      <th></th>\n",
       "      <th></th>\n",
       "      <th></th>\n",
       "      <th></th>\n",
       "      <th></th>\n",
       "      <th></th>\n",
       "    </tr>\n",
       "  </thead>\n",
       "  <tbody>\n",
       "    <tr>\n",
       "      <th>0</th>\n",
       "      <td>253.0</td>\n",
       "      <td>55.531922</td>\n",
       "      <td>14.665402</td>\n",
       "      <td>16.304739</td>\n",
       "      <td>44.488055</td>\n",
       "      <td>55.802372</td>\n",
       "      <td>66.249013</td>\n",
       "      <td>95.309459</td>\n",
       "    </tr>\n",
       "    <tr>\n",
       "      <th>1</th>\n",
       "      <td>247.0</td>\n",
       "      <td>56.744495</td>\n",
       "      <td>14.913287</td>\n",
       "      <td>14.654955</td>\n",
       "      <td>48.682432</td>\n",
       "      <td>56.924405</td>\n",
       "      <td>66.817326</td>\n",
       "      <td>93.259671</td>\n",
       "    </tr>\n",
       "  </tbody>\n",
       "</table>\n",
       "</div>"
      ],
      "text/plain": [
       "       count       mean        std        min        25%        50%  \\\n",
       "grupo                                                                 \n",
       "0      253.0  55.531922  14.665402  16.304739  44.488055  55.802372   \n",
       "1      247.0  56.744495  14.913287  14.654955  48.682432  56.924405   \n",
       "\n",
       "             75%        max  \n",
       "grupo                        \n",
       "0      66.249013  95.309459  \n",
       "1      66.817326  93.259671  "
      ]
     },
     "execution_count": 10,
     "metadata": {},
     "output_type": "execute_result"
    }
   ],
   "source": [
    "# Descrevendo as medidas de estatística descritiva da variável de interesse\n",
    "df.groupby('grupo')['escore'].describe()"
   ]
  },
  {
   "cell_type": "markdown",
   "id": "73e9a7fe",
   "metadata": {},
   "source": [
    "A média (56,74%) e mediana (56,92%) de escore do Grupo 1 (vídeo de gatos) são ligeiramente maiores do que a média (55,53%) e a mediana (55,80%) do Grupo 0 (vídeo de cachorros).\n",
    "\n",
    "Apesar dos valores de média e mediana dos dois grupos estarem bem próximas, se faz necessária a aplicação de um teste de hipótese para definir se a média de escore de um dos vídeos é maior que o outro, ou se a média de escore em ambos os vídeos é estatisticamente igual."
   ]
  },
  {
   "cell_type": "markdown",
   "id": "b42c5062",
   "metadata": {},
   "source": [
    "### Definição das hipóteses\n",
    "\n",
    "```\n",
    "- Hipótese nula (H0): Média de escore vídeo de cachorros (0) = Média de escore vídeo de gatos (1)\n",
    "```\n",
    "```\n",
    "- Hipótese alternativa (Ha): Média de escore vídeo de cachorros (0) ≠ Média de escore vídeo de gatos (1)\n",
    "```\n"
   ]
  },
  {
   "cell_type": "markdown",
   "id": "e6dea644",
   "metadata": {},
   "source": [
    "### Definição do nível de significância (alpha)\n",
    "```\n",
    "O nível de significância utilizado será de 5%\n",
    "```"
   ]
  },
  {
   "cell_type": "code",
   "execution_count": 29,
   "id": "5b4ffc49",
   "metadata": {},
   "outputs": [],
   "source": [
    "alpha = 0.05"
   ]
  },
  {
   "cell_type": "markdown",
   "id": "5628b675",
   "metadata": {},
   "source": [
    "### Escolha do teste de hipótese\n",
    "\n",
    "Determinar a distribuição da variável de interesse é de suma importância para a escolha do teste de hipótese adequado."
   ]
  },
  {
   "cell_type": "code",
   "execution_count": 5,
   "id": "3235770d",
   "metadata": {},
   "outputs": [
    {
     "data": {
      "image/png": "[encoded data removed]",
      "text/plain": [
       "<Figure size 640x480 with 1 Axes>"
      ]
     },
     "metadata": {},
     "output_type": "display_data"
    }
   ],
   "source": [
    "# Distribuição de escore das pessoas que viram o vídeo de cachorro\n",
    "sns.histplot(df[df['grupo'] == 0]['escore'], label = \"Cachorro\")\n",
    "plt.xlabel('Escore (0 a 100)')\n",
    "plt.legend()\n",
    "plt.show()"
   ]
  },
  {
   "cell_type": "code",
   "execution_count": 6,
   "id": "0716c67f",
   "metadata": {},
   "outputs": [
    {
     "data": {
      "image/png": "[encoded data removed]",
      "text/plain": [
       "<Figure size 640x480 with 1 Axes>"
      ]
     },
     "metadata": {},
     "output_type": "display_data"
    }
   ],
   "source": [
    "# Distribuição de escore das pessoas que viram o vídeo de gato\n",
    "sns.histplot(df[df['grupo'] == 1]['escore'], label = \"Gato\")\n",
    "plt.xlabel('Escore (0 a 100)')\n",
    "plt.legend()\n",
    "plt.show()"
   ]
  },
  {
   "cell_type": "code",
   "execution_count": 7,
   "id": "54611a47",
   "metadata": {},
   "outputs": [
    {
     "data": {
      "image/png": "[encoded data removed]",
      "text/plain": [
       "<Figure size 640x480 with 1 Axes>"
      ]
     },
     "metadata": {},
     "output_type": "display_data"
    }
   ],
   "source": [
    "# Sobreposição das distribuições para comparação visual \n",
    "sns.histplot(df[df['grupo'] == 0]['escore'], label = \"Cachorro\", color = \"red\" )\n",
    "sns.histplot(df[df['grupo'] == 1]['escore'], label = \"Gato\", color = \"blue\")\n",
    "plt.xlabel('Escore (0 a 100)')\n",
    "plt.legend()\n",
    "plt.show()"
   ]
  },
  {
   "cell_type": "markdown",
   "id": "16584bb7",
   "metadata": {},
   "source": [
    "- Percebe-se que ambas as distribuições seguem uma normal, além de serem bastante semelhantes.\n",
    "---\n",
    "- As amostras foram selecionadas aleatoriamente.\n",
    "---\n",
    "- Trata-se de amostras independentes, onde as pessoas que viram o vídeo de cachorros (Grupo 0) viram apenas o vídeo de cachorros, assim como as pessoas do Grupo 1 viram apenas o vídeo de gatos.\n",
    "---\n",
    "- O desvio-padrão populacional é desconhecido."
   ]
  },
  {
   "cell_type": "markdown",
   "id": "cbf7dbcf",
   "metadata": {},
   "source": [
    "#### Mediante essas características da amostra, o teste de hipótese mais adequado é o \n",
    "```\n",
    "Teste t para duas amostras independentes\n",
    "```"
   ]
  },
  {
   "cell_type": "markdown",
   "id": "91b57d85",
   "metadata": {},
   "source": [
    "### Cálculo da estatística de teste e p-valor"
   ]
  },
  {
   "cell_type": "code",
   "execution_count": 11,
   "id": "e5f84f1a",
   "metadata": {},
   "outputs": [],
   "source": [
    "# Importação da função que opera o teste t para amostras independentes\n",
    "from scipy.stats import ttest_ind"
   ]
  },
  {
   "cell_type": "code",
   "execution_count": 24,
   "id": "434971d2",
   "metadata": {},
   "outputs": [
    {
     "data": {
      "text/plain": [
       "TtestResult(statistic=-0.9166663411409343, pvalue=0.35976119585131083, df=498.0)"
      ]
     },
     "execution_count": 24,
     "metadata": {},
     "output_type": "execute_result"
    }
   ],
   "source": [
    "# Cálculo da estatística de teste (statistic) e p-valor (pvalue)\n",
    "ttest_ind(df[df['grupo'] == 0]['escore'], df[df['grupo'] == 1]['escore'])"
   ]
  },
  {
   "cell_type": "code",
   "execution_count": 25,
   "id": "7f39a954",
   "metadata": {},
   "outputs": [
    {
     "name": "stdout",
     "output_type": "stream",
     "text": [
      "stat=-0.917, p=0.360\n"
     ]
    }
   ],
   "source": [
    "# Transformação e impressão dos valores com 3 casas decimais para melhor visualização dos resultados\n",
    "t, pvalue = ttest_ind(df[df['grupo'] == 0]['escore'], df[df['grupo'] == 1]['escore'])\n",
    "print('stat=%.3f, p=%.3f' % (t, pvalue))"
   ]
  },
  {
   "cell_type": "markdown",
   "id": "4d22154d",
   "metadata": {},
   "source": [
    "## Conclusão dos resultados"
   ]
  },
  {
   "cell_type": "code",
   "execution_count": 31,
   "id": "03da5cea",
   "metadata": {},
   "outputs": [
    {
     "name": "stdout",
     "output_type": "stream",
     "text": [
      "Não rejeitamos a hipótese nula. Não há evidência suficiente para afirmar que as médias dos grupos são diferentes.\n"
     ]
    }
   ],
   "source": [
    "# Comparação do p-valor com o nível de significância (alpha)\n",
    "if pvalue < alpha:\n",
    "    print(\"Rejeitamos a hipótese nula. Há uma diferença estatisticamente significativa entre as médias dos grupos.\")\n",
    "else:\n",
    "    print(\"Não rejeitamos a hipótese nula. Não há evidência suficiente para afirmar que as médias dos grupos são diferentes.\")"
   ]
  },
  {
   "cell_type": "markdown",
   "id": "2827db51",
   "metadata": {},
   "source": [
    "Portanto, com base nas evidências obtidas da amostra, concluímos que a probabilidade média de uma pessoa adotar um pet após ver o vídeo de gatos ou o vídeo de cachorros é a mesma."
   ]
  },
  {
   "cell_type": "markdown",
   "id": "002cfe68",
   "metadata": {},
   "source": [
    "## Propósito\n",
    "\n",
    "Esta análise tem como objetivo concluir o Módulo 4 do curso E.B.A. - Estatística do Básico ao Avançado da Renata Biaggi, visando a aplicação de testes de hipóteses para validar os achados da análise exploratória.\n",
    "\n",
    "\n"
   ]
  },
  {
   "cell_type": "markdown",
   "id": "e5cf5238",
   "metadata": {},
   "source": [
    "## Autoria\n",
    "-\n",
    "Maryana Nascimento\n"
   ]
  },
  {
   "cell_type": "code",
   "execution_count": null,
   "id": "75d7a81c",
   "metadata": {},
   "outputs": [],
   "source": []
  }
 ],
 "metadata": {
  "kernelspec": {
   "display_name": "Python 3 (ipykernel)",
   "language": "python",
   "name": "python3"
  },
  "language_info": {
   "codemirror_mode": {
    "name": "ipython",
    "version": 3
   },
   "file_extension": ".py",
   "mimetype": "text/x-python",
   "name": "python",
   "nbconvert_exporter": "python",
   "pygments_lexer": "ipython3",
   "version": "3.11.5"
  }
 },
 "nbformat": 4,
 "nbformat_minor": 5
}
